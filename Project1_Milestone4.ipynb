{
  "nbformat": 4,
  "nbformat_minor": 0,
  "metadata": {
    "colab": {
      "provenance": [],
      "authorship_tag": "ABX9TyMckzB1Y9+QzDFacxoN6c8i",
      "include_colab_link": true
    },
    "kernelspec": {
      "name": "python3",
      "display_name": "Python 3"
    },
    "language_info": {
      "name": "python"
    }
  },
  "cells": [
    {
      "cell_type": "markdown",
      "metadata": {
        "id": "view-in-github",
        "colab_type": "text"
      },
      "source": [
        "<a href=\"https://colab.research.google.com/github/JBH-Coding/Using_Hugging_Face_Transformers_To_Create_Chatbots/blob/main/Project1_Milestone4.ipynb\" target=\"_parent\"><img src=\"https://colab.research.google.com/assets/colab-badge.svg\" alt=\"Open In Colab\"/></a>"
      ]
    },
    {
      "cell_type": "code",
      "execution_count": 1,
      "metadata": {
        "colab": {
          "base_uri": "https://localhost:8080/"
        },
        "id": "THlFbH2Zvaca",
        "outputId": "ae95cf10-26fc-4a76-e108-722041184aab"
      },
      "outputs": [
        {
          "output_type": "stream",
          "name": "stdout",
          "text": [
            "Collecting transformers\n",
            "  Downloading transformers-4.32.1-py3-none-any.whl (7.5 MB)\n",
            "\u001b[2K     \u001b[90m━━━━━━━━━━━━━━━━━━━━━━━━━━━━━━━━━━━━━━━━\u001b[0m \u001b[32m7.5/7.5 MB\u001b[0m \u001b[31m14.6 MB/s\u001b[0m eta \u001b[36m0:00:00\u001b[0m\n",
            "\u001b[?25hCollecting pyTelegramBotAPI\n",
            "  Downloading pyTelegramBotAPI-4.13.0.tar.gz (232 kB)\n",
            "\u001b[2K     \u001b[90m━━━━━━━━━━━━━━━━━━━━━━━━━━━━━━━━━━━━━━\u001b[0m \u001b[32m232.8/232.8 kB\u001b[0m \u001b[31m23.8 MB/s\u001b[0m eta \u001b[36m0:00:00\u001b[0m\n",
            "\u001b[?25h  Preparing metadata (setup.py) ... \u001b[?25l\u001b[?25hdone\n",
            "Collecting Wikipedia\n",
            "  Downloading wikipedia-1.4.0.tar.gz (27 kB)\n",
            "  Preparing metadata (setup.py) ... \u001b[?25l\u001b[?25hdone\n",
            "Requirement already satisfied: filelock in /usr/local/lib/python3.10/dist-packages (from transformers) (3.12.2)\n",
            "Collecting huggingface-hub<1.0,>=0.15.1 (from transformers)\n",
            "  Downloading huggingface_hub-0.16.4-py3-none-any.whl (268 kB)\n",
            "\u001b[2K     \u001b[90m━━━━━━━━━━━━━━━━━━━━━━━━━━━━━━━━━━━━━━\u001b[0m \u001b[32m268.8/268.8 kB\u001b[0m \u001b[31m19.3 MB/s\u001b[0m eta \u001b[36m0:00:00\u001b[0m\n",
            "\u001b[?25hRequirement already satisfied: numpy>=1.17 in /usr/local/lib/python3.10/dist-packages (from transformers) (1.23.5)\n",
            "Requirement already satisfied: packaging>=20.0 in /usr/local/lib/python3.10/dist-packages (from transformers) (23.1)\n",
            "Requirement already satisfied: pyyaml>=5.1 in /usr/local/lib/python3.10/dist-packages (from transformers) (6.0.1)\n",
            "Requirement already satisfied: regex!=2019.12.17 in /usr/local/lib/python3.10/dist-packages (from transformers) (2023.6.3)\n",
            "Requirement already satisfied: requests in /usr/local/lib/python3.10/dist-packages (from transformers) (2.31.0)\n",
            "Collecting tokenizers!=0.11.3,<0.14,>=0.11.1 (from transformers)\n",
            "  Downloading tokenizers-0.13.3-cp310-cp310-manylinux_2_17_x86_64.manylinux2014_x86_64.whl (7.8 MB)\n",
            "\u001b[2K     \u001b[90m━━━━━━━━━━━━━━━━━━━━━━━━━━━━━━━━━━━━━━━━\u001b[0m \u001b[32m7.8/7.8 MB\u001b[0m \u001b[31m37.2 MB/s\u001b[0m eta \u001b[36m0:00:00\u001b[0m\n",
            "\u001b[?25hCollecting safetensors>=0.3.1 (from transformers)\n",
            "  Downloading safetensors-0.3.3-cp310-cp310-manylinux_2_17_x86_64.manylinux2014_x86_64.whl (1.3 MB)\n",
            "\u001b[2K     \u001b[90m━━━━━━━━━━━━━━━━━━━━━━━━━━━━━━━━━━━━━━━━\u001b[0m \u001b[32m1.3/1.3 MB\u001b[0m \u001b[31m44.8 MB/s\u001b[0m eta \u001b[36m0:00:00\u001b[0m\n",
            "\u001b[?25hRequirement already satisfied: tqdm>=4.27 in /usr/local/lib/python3.10/dist-packages (from transformers) (4.66.1)\n",
            "Requirement already satisfied: beautifulsoup4 in /usr/local/lib/python3.10/dist-packages (from Wikipedia) (4.11.2)\n",
            "Requirement already satisfied: fsspec in /usr/local/lib/python3.10/dist-packages (from huggingface-hub<1.0,>=0.15.1->transformers) (2023.6.0)\n",
            "Requirement already satisfied: typing-extensions>=3.7.4.3 in /usr/local/lib/python3.10/dist-packages (from huggingface-hub<1.0,>=0.15.1->transformers) (4.7.1)\n",
            "Requirement already satisfied: charset-normalizer<4,>=2 in /usr/local/lib/python3.10/dist-packages (from requests->transformers) (3.2.0)\n",
            "Requirement already satisfied: idna<4,>=2.5 in /usr/local/lib/python3.10/dist-packages (from requests->transformers) (3.4)\n",
            "Requirement already satisfied: urllib3<3,>=1.21.1 in /usr/local/lib/python3.10/dist-packages (from requests->transformers) (2.0.4)\n",
            "Requirement already satisfied: certifi>=2017.4.17 in /usr/local/lib/python3.10/dist-packages (from requests->transformers) (2023.7.22)\n",
            "Requirement already satisfied: soupsieve>1.2 in /usr/local/lib/python3.10/dist-packages (from beautifulsoup4->Wikipedia) (2.4.1)\n",
            "Building wheels for collected packages: pyTelegramBotAPI, Wikipedia\n",
            "  Building wheel for pyTelegramBotAPI (setup.py) ... \u001b[?25l\u001b[?25hdone\n",
            "  Created wheel for pyTelegramBotAPI: filename=pyTelegramBotAPI-4.13.0-py3-none-any.whl size=214529 sha256=698449f256cfc7a29836ca66d0de614887f84a955d2c37d396dfe34c2a20c91d\n",
            "  Stored in directory: /root/.cache/pip/wheels/f7/1a/3b/41e1ce64625e3f11567085dc79043d9fa573a2cc39f9938556\n",
            "  Building wheel for Wikipedia (setup.py) ... \u001b[?25l\u001b[?25hdone\n",
            "  Created wheel for Wikipedia: filename=wikipedia-1.4.0-py3-none-any.whl size=11678 sha256=54bf0a5557a3003a6864e81974dd39c9a738682cf519f412dbe8bf41de19714e\n",
            "  Stored in directory: /root/.cache/pip/wheels/5e/b6/c5/93f3dec388ae76edc830cb42901bb0232504dfc0df02fc50de\n",
            "Successfully built pyTelegramBotAPI Wikipedia\n",
            "Installing collected packages: tokenizers, safetensors, Wikipedia, pyTelegramBotAPI, huggingface-hub, transformers\n",
            "Successfully installed Wikipedia-1.4.0 huggingface-hub-0.16.4 pyTelegramBotAPI-4.13.0 safetensors-0.3.3 tokenizers-0.13.3 transformers-4.32.1\n"
          ]
        }
      ],
      "source": [
        "!pip install transformers pyTelegramBotAPI Wikipedia"
      ]
    },
    {
      "cell_type": "code",
      "source": [
        "from transformers import pipeline\n",
        "import telebot\n",
        "import wikipedia\n",
        "\n",
        "context_model = None\n",
        "\n",
        "class question_answer_bot:\n",
        "  def __init__(self):\n",
        "    self.current_state = \"Initial\"\n",
        "    self.bot = telebot.TeleBot(\"6599505513:AAFdTroAcK2b3hz1acn3REe8Mzts3C_0z9U\",\n",
        "                               parse_mode = None)\n",
        "    self.current_subject = None\n",
        "    self.current_context = None\n",
        "    self.pipeline = pipeline('question-answering', model = None)\n",
        "\n",
        "    self.bot.infinity_polling()\n",
        "\n",
        "    @self.bot.message_handler(commands=['start'])\n",
        "    def post_greeting(message):\n",
        "      bot.reply_to(message, \"Hello. What subject may I answer questions about for you?\")\n",
        "      self.current_state = \"Initial\"\n",
        "\n",
        "    @self.bot.message_handler(func = lambda message: True)\n",
        "    def parse_message_for_appropriate_state(message):\n",
        "      if self.current_state = \"Initial\":\n",
        "        self.current_subject = message.text\n",
        "        bot.reply_to(message, f\"Alright, I will do my best to answer your questions about {message.text}\")\n",
        "        self.state = \"Obtaining Context\"\n",
        "      elif self.current_state = \"Obtaining Context\":\n",
        "        self.current_context = wikipedia.page(self.current_subject).content\n",
        "        bot.reply_to(message, f\"Okay, let's discuss {self.current_subject}.  What would you like to know?\")\n",
        "        self.current_state = \"Answering\"\n",
        "      elif self.current_state = \"Answering\":\n",
        "        this_question = message.text\n",
        "        bot.reply_to(message, self.pipeline(context=self.current_context, question=this_question))\n",
        "      else:\n",
        "        bot.reply_to(message, \"Sorry, something seems to have gone wrong.  Starting over.  What subject may I answer questions about for you?\")\n",
        "\n",
        "\n",
        "\n"
      ],
      "metadata": {
        "id": "WcyAbBRzvjCC"
      },
      "execution_count": null,
      "outputs": []
    }
  ]
}